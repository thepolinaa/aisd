{
 "cells": [
  {
   "cell_type": "markdown",
   "id": "b8f5c8a5",
   "metadata": {},
   "source": [
    "# 25\n",
    "Класс – трапеция. Методы – расчет площади и периметра трапеции. Поля – стороны трапеции, площадь и периметр."
   ]
  },
  {
   "cell_type": "code",
   "execution_count": 1,
   "id": "3a5e426c",
   "metadata": {},
   "outputs": [
    {
     "name": "stdout",
     "output_type": "stream",
     "text": [
      "площадь трапеции: 16.01332799161569\n",
      "периметр трапеции: 40.04233639674436\n",
      "сторона a: 2\n",
      "сторона b: 3\n",
      "угол alpha: 30\n",
      "высота трапеции h: 6.405331196646276\n"
     ]
    }
   ],
   "source": [
    "import math\n",
    "\n",
    "class Trapezoid():\n",
    "    # инициализируем объект трапеции длинами сторон a, b и углом альфа\n",
    "    def __init__(self, a, b, alpha):\n",
    "        self.a = a\n",
    "        self.b = b\n",
    "        self.alpha = alpha\n",
    "        # рассчитываем высоту трапеции \n",
    "        self.h = (self.a - self.b) * math.tan(self.alpha)\n",
    "\n",
    "    # вычисляем площадь трапеции\n",
    "    def trapezoid_area(self):\n",
    "        return (self.a + self.b) / 2 * self.h\n",
    "\n",
    "    # вычисляем периметр трапеции\n",
    "    def trapezoid_perimeter(self):\n",
    "        return (self.a + self.b + self.h * (1 / math.cos(self.alpha)) +\n",
    "                self.h * (1 / math.sin(self.alpha)))\n",
    "\n",
    "# создаем трапецию с длиной сторон 2, 3 и углом 30 градусов\n",
    "calcTrapezoid = Trapezoid(2, 3, 30)\n",
    "area_trapezion = calcTrapezoid.trapezoid_area()\n",
    "perinetr_trapezion = calcTrapezoid.trapezoid_perimeter()\n",
    "\n",
    "print(f\"площадь трапеции: {area_trapezion}\")\n",
    "print(f\"периметр трапеции: {perinetr_trapezion}\")\n",
    "print(f\"сторона a: {calcTrapezoid.a}\")\n",
    "print(f\"сторона b: {calcTrapezoid.b}\")\n",
    "print(f\"угол alpha: {calcTrapezoid.alpha}\")\n",
    "print(f\"высота трапеции h: {calcTrapezoid.h}\")"
   ]
  },
  {
   "cell_type": "markdown",
   "id": "ce7f3f58",
   "metadata": {},
   "source": [
    "# 26\n",
    "Опишите класс ATM. В классе задаются поля для хранения идентификационного номера банкомата, минимальной и максимальной сумм денег, которые позволено снять клиенту за один раз. Сумма денег, оставшаяся в банкомате, представляется шестью полями — номиналами российских рублей (10, 50, 100, 500, 1000, 5000), значениями которых является количество купюр данного достоинства. Включите в описание класса методы загрузки денег в банкомат и снятия определенной суммы денег, а также свойство, позволяющее вывести на экран сумму денег в банкомате в виде строки."
   ]
  },
  {
   "cell_type": "code",
   "execution_count": 2,
   "id": "abb3a45e",
   "metadata": {
    "scrolled": true
   },
   "outputs": [
    {
     "name": "stdout",
     "output_type": "stream",
     "text": [
      "ATM ID: 1\n",
      "Money in ATM: {10: 10, 50: 5, 100: 3, 500: 2, 1000: 1, 5000: 1}\n",
      "{500: 1, 100: 1, 50: 1, 10: 2}\n",
      "ATM ID: 1\n",
      "Money in ATM: {10: 8, 50: 4, 100: 2, 500: 1, 1000: 1, 5000: 1}\n",
      "{5000: 1}\n",
      "ATM ID: 1\n",
      "Money in ATM: {10: 8, 50: 4, 100: 2, 500: 1, 1000: 1, 5000: 0}\n"
     ]
    }
   ],
   "source": [
    "class ATM:\n",
    "    def __init__(self, atm_id, min_withdrawal, max_withdrawal):\n",
    "        self.atm_id = atm_id  # идентификационный номер банкомата\n",
    "        self.min_withdrawal = min_withdrawal  # минимальная сумма снятия денег\n",
    "        self.max_withdrawal = max_withdrawal  # максимальная сумма снятия денег\n",
    "        self.money = {10: 0, 50: 0, 100: 0, 500: 0, 1000: 0, 5000: 0}  # количество купюр разного номинала в банкомате\n",
    "\n",
    "    def load_money(self, money_values):\n",
    "        # метод для загрузки денег в банкомат\n",
    "        for key in money_values:\n",
    "            self.money[key] += money_values[key]\n",
    "\n",
    "    def withdraw_money(self, amount):\n",
    "        # метод для снятия определенной суммы денег\n",
    "        if amount < self.min_withdrawal or amount > self.max_withdrawal:\n",
    "            return \"Amount not allowed\"  # возвращаем сообщение, если сумма не входит в диапазон разрешенных снятий\n",
    "        remaining_amount = amount\n",
    "        withdrawal = {}\n",
    "        for key in sorted(self.money.keys(), reverse=True):\n",
    "            # перебираем купюры в порядке убывания номинала для снятия соответствующих сумм\n",
    "            num_bills = min(remaining_amount // key, self.money[key])\n",
    "            remaining_amount -= num_bills * key\n",
    "            if num_bills > 0:\n",
    "                withdrawal[key] = num_bills\n",
    "                self.money[key] -= num_bills\n",
    "        return withdrawal if remaining_amount == 0 else \"Not enough money in ATM\"  # возвращаем снятые купюры или сообщение об отсутствии нужной суммы\n",
    "\n",
    "    def __str__(self):\n",
    "        return f\"ATM ID: {self.atm_id}\\nMoney in ATM: {self.money}\"  # вывод информации о банкомате при вызове функции print()\n",
    "\n",
    "# пример использования класса ATM\n",
    "atm = ATM(1, 100, 10000)\n",
    "atm.load_money({10: 10, 50: 5, 100: 3, 500: 2, 1000: 1, 5000: 1})\n",
    "print(atm)\n",
    "\n",
    "withdrawal = atm.withdraw_money(670)\n",
    "print(withdrawal)\n",
    "print(atm)\n",
    "\n",
    "withdrawal = atm.withdraw_money(5000)\n",
    "print(withdrawal)\n",
    "print(atm)"
   ]
  },
  {
   "cell_type": "markdown",
   "id": "e5931f28",
   "metadata": {},
   "source": [
    "# 27\n",
    "Создайте класс ПРОГРЕССИЯ с методами вычисления  i -го элемента прогрессии, её суммы и методом, выводящим сумму на экран. Создайте дочерние классы: АРИФМЕТИЧЕСКАЯ, ГЕОМЕТРИЧЕСКАЯ со своими методами вычисления. Создайте список  n  прогрессий и выведите сумму каждой из них экран."
   ]
  },
  {
   "cell_type": "code",
   "execution_count": 4,
   "id": "9bfb83cc",
   "metadata": {},
   "outputs": [
    {
     "name": "stdout",
     "output_type": "stream",
     "text": [
      "сумма прогрессии равна: 25\n",
      "сумма прогрессии равна: 55\n",
      "сумма прогрессии равна: 242\n",
      "сумма прогрессии равна: 155\n",
      "сумма прогрессии равна: 20\n"
     ]
    }
   ],
   "source": [
    "class Progression():\n",
    "    def __init__(self, a, d):\n",
    "        # инициализация прогрессии с первым элементом a и разностью d\n",
    "        self.first_element = a\n",
    "        self.difference = d\n",
    "\n",
    "    def calculate_nth_element(self, n):\n",
    "        # расчет n-го элемента прогрессии\n",
    "        return self.first_element + (n - 1) * self.difference\n",
    "\n",
    "    def calculate_sum(self, n):\n",
    "        # расчет суммы первых n элементов прогрессии\n",
    "        return n * (2 * self.first_element + (n - 1) * self.difference) // 2\n",
    "\n",
    "    def display_sum(self, n):\n",
    "        # вывод суммы прогрессии\n",
    "        print(f\"сумма прогрессии равна: {self.calculate_sum(n)}\")\n",
    "\n",
    "class ArithmeticProgression(Progression):\n",
    "    def __init__(self, a, d):\n",
    "        super().__init__(a, d)\n",
    "\n",
    "    def calculate_nth_element(self, n):\n",
    "        # переопределение расчета n-го элемента для арифметической прогрессии\n",
    "        return self.first_element + (n - 1) * self.difference\n",
    "\n",
    "    def calculate_sum(self, n):\n",
    "        # переопределение расчета суммы для арифметической прогрессии\n",
    "        return n * (2 * self.first_element + (n - 1) * self.difference) // 2\n",
    "\n",
    "class GeometricProgression(Progression):\n",
    "    def __init__(self, a, r):\n",
    "        # инициализация геометрической прогрессии с первым элементом a и коэффициентом r\n",
    "        self.first_element = a\n",
    "        self.ratio = r\n",
    "\n",
    "    def calculate_nth_element(self, n):\n",
    "        # расчет n-го элемента геометрической прогрессии\n",
    "        return self.first_element * (self.ratio ** (n - 1))\n",
    "\n",
    "    def calculate_sum(self, n):\n",
    "        # расчет суммы первых n элементов геометрической прогрессии\n",
    "        if self.ratio == 1:\n",
    "            return n * self.first_element\n",
    "        else:\n",
    "            return int(self.first_element * (1 - self.ratio**n) / (1 - self.ratio))\n",
    "\n",
    "n = 5\n",
    "progressions = [\n",
    "    ArithmeticProgression(1, 2),\n",
    "    ArithmeticProgression(3, 4),\n",
    "    GeometricProgression(2, 3),\n",
    "    GeometricProgression(5, 2),\n",
    "    ArithmeticProgression(2, 1)\n",
    "]\n",
    "\n",
    "for progression in progressions:\n",
    "    progression.display_sum(n)"
   ]
  }
 ],
 "metadata": {
  "kernelspec": {
   "display_name": "Python 3 (ipykernel)",
   "language": "python",
   "name": "python3"
  },
  "language_info": {
   "codemirror_mode": {
    "name": "ipython",
    "version": 3
   },
   "file_extension": ".py",
   "mimetype": "text/x-python",
   "name": "python",
   "nbconvert_exporter": "python",
   "pygments_lexer": "ipython3",
   "version": "3.10.9"
  }
 },
 "nbformat": 4,
 "nbformat_minor": 5
}
