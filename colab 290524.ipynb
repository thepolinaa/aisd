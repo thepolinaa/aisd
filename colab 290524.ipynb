{
 "cells": [
  {
   "cell_type": "markdown",
   "id": "3e3c433e",
   "metadata": {},
   "source": [
    "# 41(а)"
   ]
  },
  {
   "cell_type": "raw",
   "id": "2567bfba",
   "metadata": {},
   "source": [
    "Создать класс «Автомобиль» с полями «Марка», «Модель», «Год выпуска» и «Цвет». Создать хеш-таблицу для хранения объектов класса «Автомобиль» по ключу — номеру государственной регистрации."
   ]
  },
  {
   "cell_type": "code",
   "execution_count": 9,
   "id": "4f6cbc35",
   "metadata": {
    "scrolled": true
   },
   "outputs": [
    {
     "name": "stdout",
     "output_type": "stream",
     "text": [
      "регистрационный номер: ABC123, марка: Toyota, модель: Camry, год выпуска: 2018, цвет: Black\n",
      "регистрационный номер: DEF456, марка: Honda, модель: Civic, год выпуска: 2019, цвет: White\n",
      "регистрационный номер: GHI789, марка: Ford, модель: Focus, год выпуска: 2017, цвет: Silver\n"
     ]
    }
   ],
   "source": [
    "class Car:\n",
    "    def __init__(self, brand, model, year, color):\n",
    "        self.brand = brand\n",
    "        self.model = model\n",
    "        self.year = year\n",
    "        self.color = color\n",
    "\n",
    "# создаем объекты класса \"Автомобиль\"\n",
    "car1 = Car(\"Toyota\", \"Camry\", 2018, \"Black\")\n",
    "car2 = Car(\"Honda\", \"Civic\", 2019, \"White\")\n",
    "car3 = Car(\"Ford\", \"Focus\", 2017, \"Silver\")\n",
    "\n",
    "# создаем хеш-таблицу для хранения объектов класса \"Автомобиль\" по номеру государственной регистрации\n",
    "car_hash_table = {}\n",
    "\n",
    "# добавляем объекты в хеш-таблицу с ключами, соответствующими номерам государственной регистрации\n",
    "car_hash_table[\"ABC123\"] = car1\n",
    "car_hash_table[\"DEF456\"] = car2\n",
    "car_hash_table[\"GHI789\"] = car3\n",
    "\n",
    "# выводим информацию о машинах в хеш-таблице\n",
    "for reg_number, car in car_hash_table.items():\n",
    "    print(f\"регистрационный номер: {reg_number}, марка: {car.brand}, модель: {car.model}, год выпуска: {car.year}, цвет: {car.color}\")"
   ]
  },
  {
   "cell_type": "markdown",
   "id": "df3e1632",
   "metadata": {},
   "source": [
    "# 41(б)"
   ]
  },
  {
   "cell_type": "raw",
   "id": "920b7cbb",
   "metadata": {},
   "source": [
    "Написать функцию для нахождения наиболее часто встречающегося значения в хеш-таблице."
   ]
  },
  {
   "cell_type": "code",
   "execution_count": 10,
   "id": "0938ff41",
   "metadata": {},
   "outputs": [
    {
     "name": "stdout",
     "output_type": "stream",
     "text": [
      "наиболее часто встречающееся значение: ['value1', 'value2']\n"
     ]
    }
   ],
   "source": [
    "def find_most_frequent_value(hash_table):\n",
    "    # создаем словарь для подсчета количества вхождений каждого значения\n",
    "    count_dict = {}\n",
    "    \n",
    "    # проходим по всем значениям в хеш-таблице\n",
    "    for value in hash_table.values():\n",
    "        # если значение уже есть в словаре, увеличиваем его счетчик на 1\n",
    "        if value in count_dict:\n",
    "            count_dict[value] += 1\n",
    "        # если значение не найдено в словаре, добавляем его со счетчиком 1\n",
    "        else:\n",
    "            count_dict[value] = 1\n",
    "    \n",
    "    # находим максимальное значение среди счетчиков\n",
    "    max_count = max(count_dict.values())\n",
    "    \n",
    "    # ищем все значения, которые имеют максимальное количество вхождений\n",
    "    most_frequent_values = [value for value, count in count_dict.items() if count == max_count]\n",
    "    \n",
    "    return most_frequent_values\n",
    "\n",
    "# пример использования функции\n",
    "hash_table = {\"key1\": \"value1\", \"key2\": \"value2\", \"key3\": \"value1\", \"key4\": \"value3\", \"key5\": \"value2\"}\n",
    "most_frequent = find_most_frequent_value(hash_table)\n",
    "print(\"наиболее часто встречающееся значение:\", most_frequent)"
   ]
  },
  {
   "cell_type": "markdown",
   "id": "6a0382ec",
   "metadata": {},
   "source": [
    "# 41(в)"
   ]
  },
  {
   "cell_type": "raw",
   "id": "a7cd389c",
   "metadata": {},
   "source": [
    "Реализуйте хеш-таблицу для хранения информации о товарах на складе. Ключом является штрих-код товара, значение — объект, содержащий информацию о товаре (название, количество, цена и т.д.). Используйте метод разрешения коллизий методом открытой адресации с квадратичным пробированием и реализуйте возможность изменения количества товаров."
   ]
  },
  {
   "cell_type": "code",
   "execution_count": 11,
   "id": "9cd1df1e",
   "metadata": {},
   "outputs": [
    {
     "name": "stdout",
     "output_type": "stream",
     "text": [
      "книга\n",
      "True\n"
     ]
    }
   ],
   "source": [
    "class Product: \n",
    "    def __init__(self, name, quantity, price): \n",
    "        self.name = name \n",
    "        self.quantity = quantity \n",
    "        self.price = price \n",
    "        \n",
    "class HashTable:\n",
    "    def __init__(self, size): \n",
    "        self.size = size \n",
    "        self.table = [None] * size \n",
    "     \n",
    "    def _hash(self, key): \n",
    "        return key % self.size \n",
    "     \n",
    "    def _probe(self, index, i): \n",
    "        return (index + i**2) % self.size \n",
    "     \n",
    "    def insert(self, key, product): \n",
    "        index = self._hash(key) \n",
    "        i = 0 \n",
    "        while i < self.size: \n",
    "            if self.table[index] is None: \n",
    "                self.table[index] = (key, product) \n",
    "                return True \n",
    "            index = self._probe(index, i) \n",
    "            i += 1 \n",
    "        return False  # хеш-таблица заполнена \n",
    "     \n",
    "    def update_quantity(self, key, new_quantity): \n",
    "        index = self._hash(key) \n",
    "        i = 0 \n",
    "        while i < self.size: \n",
    "            if self.table[index] and self.table[index][0] == key: \n",
    "                self.table[index][1].quantity = new_quantity \n",
    "                return True \n",
    "            index = self._probe(index, i) \n",
    "            i += 1 \n",
    "        return False  # товар с заданным ключом не найден \n",
    "     \n",
    "    def get_product(self, key): \n",
    "        index = self._hash(key) \n",
    "        i = 0 \n",
    "        while i < self.size: \n",
    "            if self.table[index] and self.table[index][0] == key: \n",
    "                return self.table[index][1] \n",
    "            index = self._probe(index, i) \n",
    "            i += 1 \n",
    "        return None  # товар с заданным ключом не найден \n",
    "\n",
    "# пример использования функции\n",
    "hash_table = HashTable(10) \n",
    "product1 = Product(\"книга\", 50, 25.0) \n",
    "product2 = Product(\"ручка\", 100, 2.5) \n",
    " \n",
    "hash_table.insert(12345, product1) \n",
    "hash_table.insert(54321, product2) \n",
    " \n",
    "print(hash_table.get_product(12345).name)   \n",
    "print(hash_table.update_quantity(54321, 150))  "
   ]
  }
 ],
 "metadata": {
  "kernelspec": {
   "display_name": "Python 3 (ipykernel)",
   "language": "python",
   "name": "python3"
  },
  "language_info": {
   "codemirror_mode": {
    "name": "ipython",
    "version": 3
   },
   "file_extension": ".py",
   "mimetype": "text/x-python",
   "name": "python",
   "nbconvert_exporter": "python",
   "pygments_lexer": "ipython3",
   "version": "3.10.9"
  }
 },
 "nbformat": 4,
 "nbformat_minor": 5
}
