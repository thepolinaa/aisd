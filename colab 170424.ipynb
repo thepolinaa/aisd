{
 "cells": [
  {
   "cell_type": "markdown",
   "id": "c2eea41c",
   "metadata": {},
   "source": [
    "# 28\n",
    "а) С помощью лямбда-функции в заданном списке слов найти слова, длина которых равна шести.\n",
    "б) Найти максимальное значение в заданном гетерогенном списке с помощью лямбда-функции. Пример: ['Python', 3, 2, 4, 5, 'version'] → 5.\n",
    "в) Удалите значения None из заданного списка с помощью лямбда- функции. Пример: [12, 0, None, 23, None, -55, 234, 89, None, 0, 6, -12] → [12, 0, 23, -55, 234, 89, 0, 6, -12]."
   ]
  },
  {
   "cell_type": "code",
   "execution_count": 10,
   "id": "6f121d56",
   "metadata": {
    "scrolled": true
   },
   "outputs": [
    {
     "name": "stdout",
     "output_type": "stream",
     "text": [
      "['banana', 'orange']\n"
     ]
    }
   ],
   "source": [
    "words = ['apple', 'banana', 'orange', 'grape', 'kiwi', 'melon']\n",
    "result = list(filter(lambda x: len(x) == 6, words))\n",
    "print(result)  "
   ]
  },
  {
   "cell_type": "code",
   "execution_count": 11,
   "id": "573dacc7",
   "metadata": {},
   "outputs": [
    {
     "name": "stdout",
     "output_type": "stream",
     "text": [
      "5\n"
     ]
    }
   ],
   "source": [
    "items = ['Python', 3, 2, 4, 5, 'version']\n",
    "max_value = max(filter(lambda x: isinstance(x, int), items))\n",
    "print(max_value)  "
   ]
  },
  {
   "cell_type": "code",
   "execution_count": 12,
   "id": "ee0e14b7",
   "metadata": {},
   "outputs": [
    {
     "name": "stdout",
     "output_type": "stream",
     "text": [
      "[12, 0, 23, -55, 234, 89, 0, 6, -12]\n"
     ]
    }
   ],
   "source": [
    "values = [12, 0, None, 23, None, -55, 234, 89, None, 0, 6, -12]\n",
    "result = list(filter(lambda x: x is not None, values))\n",
    "print(result)  "
   ]
  },
  {
   "cell_type": "markdown",
   "id": "14186553",
   "metadata": {},
   "source": [
    "# 29\n",
    "а) Вычислите квадраты первых  N  чисел Фибоначчи, используя функцию map(), и сгенерируйте из них список чисел. Пример: N = 10 → [0, 1, 1, 2, 3, 5, 8, 13, 21, 34] → [0, 1, 1, 4, 9, 25, 64, 169, 441, 1156].\n",
    "б) Сгенерировать список целых чисел. С помощью функции filter() выбрать из списка все двузначные числа и упорядочить эти числа по возрастанию. Используя функцию reduce(), найти их произведение."
   ]
  },
  {
   "cell_type": "code",
   "execution_count": 13,
   "id": "dd3b7f85",
   "metadata": {},
   "outputs": [
    {
     "name": "stdout",
     "output_type": "stream",
     "text": [
      "[0, 1, 1, 4, 9, 25, 64, 169, 441, 1156]\n"
     ]
    }
   ],
   "source": [
    "from functools import reduce  \n",
    "\n",
    "# определяем функции для генерации последовательности чисел Фибоначчи\n",
    "def fibonacci(n):\n",
    "    fib = [0, 1]  # начальные значения последовательности\n",
    "    for i in range(2, n):  # генерируем следующих чисел Фибоначчи\n",
    "        fib.append(fib[i-1] + fib[i-2])  # добавляем сумму двух предыдущих чисел\n",
    "    return fib  \n",
    "\n",
    "N = 10  \n",
    "fibonacci_numbers = fibonacci(N)  # генерируем числа Фибоначчи\n",
    "squared_fibonacci = list(map(lambda x: x**2, fibonacci_numbers))  # возводим каждое число в квадрат\n",
    "print(squared_fibonacci)  "
   ]
  },
  {
   "cell_type": "code",
   "execution_count": 14,
   "id": "0fa7722a",
   "metadata": {},
   "outputs": [
    {
     "name": "stdout",
     "output_type": "stream",
     "text": [
      "893877923976710400\n"
     ]
    }
   ],
   "source": [
    "from functools import reduce \n",
    "\n",
    "numbers = [23, 45, 12, 67, 89, 34, 56, 78, 90, 43, 21] # задаем список целых чисел\n",
    "\n",
    "filtered_numbers = filter(lambda x: 10 <= x <= 99, numbers)  # фильтруем двузначные числа\n",
    "sorted_numbers = sorted(filtered_numbers)  # упорядочиваем отфильтрованные числа по возрастанию\n",
    "\n",
    "product = reduce(lambda x, y: x * y, sorted_numbers)  # находим произведение чисел\n",
    "print(product)  "
   ]
  },
  {
   "cell_type": "markdown",
   "id": "a02fd23a",
   "metadata": {},
   "source": [
    "# 30\n",
    "а) Создайте декоратор, который будет принимать аргументы и передавать их в функцию в определенном порядке.\n",
    "б) Создайте декоратор, который будет заменять значение аргумента на результат выполнения заданной функции с использованием других аргументов функции и контекста извне только если оно удовлетворяет определенному условию."
   ]
  },
  {
   "cell_type": "code",
   "execution_count": 15,
   "id": "299fdeda",
   "metadata": {},
   "outputs": [
    {
     "name": "stdout",
     "output_type": "stream",
     "text": [
      "8\n"
     ]
    }
   ],
   "source": [
    "def argument_order_decorator(*args):\n",
    "    def decorator(func):\n",
    "        def wrapper(*func_args, **func_kwargs):\n",
    "            # сортируем аргументы в соответствии с порядком, заданным в декораторе\n",
    "            ordered_args = [func_kwargs[arg] for arg in args]\n",
    "            return func(*ordered_args)\n",
    "        return wrapper\n",
    "    return decorator\n",
    "\n",
    "# пример использования декоратора\n",
    "@argument_order_decorator('b', 'a')\n",
    "def example_function(a, b):\n",
    "    return a + b\n",
    "\n",
    "result = example_function(a=3, b=5)\n",
    "print(result) "
   ]
  },
  {
   "cell_type": "code",
   "execution_count": 16,
   "id": "42391819",
   "metadata": {},
   "outputs": [
    {
     "name": "stdout",
     "output_type": "stream",
     "text": [
      "11\n"
     ]
    }
   ],
   "source": [
    "def replace_if_condition(condition, replacement_func):\n",
    "    def decorator(func):\n",
    "        def wrapper(*args, **kwargs):\n",
    "            # перебираем все аргументы функции\n",
    "            for key, value in kwargs.items():\n",
    "                # если значение аргумента удовлетворяет условию, заменяем его\n",
    "                if condition(value):\n",
    "                    kwargs[key] = replacement_func(value)\n",
    "            return func(*args, **kwargs)\n",
    "        return wrapper\n",
    "    return decorator\n",
    "\n",
    "# пример функции для замены аргумента\n",
    "def double_value(value):\n",
    "    return value * 2\n",
    "\n",
    "# пример использования декоратора\n",
    "@replace_if_condition(lambda x: x % 2 == 0, double_value)\n",
    "def example_function(a, b):\n",
    "    return a + b\n",
    "\n",
    "result = example_function(a=3, b=4)\n",
    "print(result)  "
   ]
  }
 ],
 "metadata": {
  "kernelspec": {
   "display_name": "Python 3 (ipykernel)",
   "language": "python",
   "name": "python3"
  },
  "language_info": {
   "codemirror_mode": {
    "name": "ipython",
    "version": 3
   },
   "file_extension": ".py",
   "mimetype": "text/x-python",
   "name": "python",
   "nbconvert_exporter": "python",
   "pygments_lexer": "ipython3",
   "version": "3.10.9"
  }
 },
 "nbformat": 4,
 "nbformat_minor": 5
}
