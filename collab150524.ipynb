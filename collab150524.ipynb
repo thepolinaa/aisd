{
 "cells": [
  {
   "cell_type": "markdown",
   "id": "ab65db8f",
   "metadata": {},
   "source": [
    "# 35"
   ]
  },
  {
   "cell_type": "raw",
   "id": "c05f40f4",
   "metadata": {},
   "source": [
    "Создайте двусвязный список для хранения информации о книгах в библиотеке. Каждый элемент списка должен содержать название книги, автора, год издания, количество экземпляров и список читателей, которые взяли эту книгу."
   ]
  },
  {
   "cell_type": "code",
   "execution_count": 10,
   "id": "c92bd2a7",
   "metadata": {},
   "outputs": [
    {
     "name": "stdout",
     "output_type": "stream",
     "text": [
      "title: book1, author: author1, year: 2000, copies: 3, readers: ['reader1', 'reader2']\n",
      "title: book2, author: author2, year: 2005, copies: 2, readers: ['reader3']\n"
     ]
    }
   ],
   "source": [
    "class Book:\n",
    "    def __init__(self, title, author, year, copies, readers):\n",
    "        self.title = title\n",
    "        self.author = author\n",
    "        self.year = year\n",
    "        self.copies = copies\n",
    "        self.readers = readers\n",
    "        self.next = None\n",
    "        self.prev = None\n",
    "\n",
    "class DoublyLinkedList:\n",
    "    def __init__(self):\n",
    "        self.head = None\n",
    "\n",
    "    def append(self, book):\n",
    "        new_book = Book(book['title'], book['author'], book['year'], book['copies'], book['readers'])\n",
    "        if self.head is None:\n",
    "            self.head = new_book\n",
    "        else:\n",
    "            current = self.head\n",
    "            while current.next:\n",
    "                current = current.next\n",
    "            current.next = new_book\n",
    "            new_book.prev = current\n",
    "\n",
    "    def display_books(self):\n",
    "        current = self.head\n",
    "        while current:\n",
    "            print(f\"title: {current.title}, author: {current.author}, year: {current.year}, copies: {current.copies}, readers: {current.readers}\")\n",
    "            current = current.next\n",
    "\n",
    "# пример использования\n",
    "library = DoublyLinkedList()\n",
    "book1 = {'title': 'book1', 'author': 'author1', 'year': 2000, 'copies': 3, 'readers': ['reader1', 'reader2']}\n",
    "book2 = {'title': 'book2', 'author': 'author2', 'year': 2005, 'copies': 2, 'readers': ['reader3']}\n",
    "library.append(book1)\n",
    "library.append(book2)\n",
    "library.display_books()"
   ]
  },
  {
   "cell_type": "markdown",
   "id": "3795994a",
   "metadata": {},
   "source": [
    "# 36"
   ]
  },
  {
   "cell_type": "raw",
   "id": "c4b3c696",
   "metadata": {},
   "source": [
    "Реализовать функцию, которая находит сумму всех элементов двусвязного списка, кроме первого и последнего."
   ]
  },
  {
   "cell_type": "code",
   "execution_count": 2,
   "id": "28e4cee9",
   "metadata": {},
   "outputs": [
    {
     "name": "stdout",
     "output_type": "stream",
     "text": [
      "сумма всех элементов двусвязного списка, кроме первого и последнего: 0\n"
     ]
    }
   ],
   "source": [
    "def sum_elements_except_ends(dll):\n",
    "    if dll.head is None or dll.head.next is None:\n",
    "        return 0  # если список пуст или содержит только один элемент, возвращаем 0\n",
    "\n",
    "    total_sum = 0\n",
    "    current = dll.head.next  # начинаем с элемента после первого\n",
    "\n",
    "    while current.next is not None:\n",
    "        total_sum += current.copies  # добавляем значение элемента к общей сумме\n",
    "        current = current.next\n",
    "\n",
    "    return total_sum\n",
    "\n",
    "# пример использования\n",
    "total = sum_elements_except_ends(library)\n",
    "print(f\"сумма всех элементов двусвязного списка, кроме первого и последнего: {total}\")"
   ]
  },
  {
   "cell_type": "markdown",
   "id": "af9bcc36",
   "metadata": {},
   "source": [
    "# 37"
   ]
  },
  {
   "cell_type": "raw",
   "id": "cb888b94",
   "metadata": {},
   "source": [
    "Реализовать функцию, которая проверяет, является ли циклический двусвязный список палиндромом."
   ]
  },
  {
   "cell_type": "code",
   "execution_count": 4,
   "id": "4438f330",
   "metadata": {},
   "outputs": [
    {
     "name": "stdout",
     "output_type": "stream",
     "text": [
      "является ли циклический двусвязный список палиндромом: False\n"
     ]
    }
   ],
   "source": [
    "def is_doubly_linked_list_palindrome(dll):\n",
    "    if dll.head is None:\n",
    "        return True  # если список пуст, считаем его палиндромом\n",
    "\n",
    "    # находим середину списка\n",
    "    slow = dll.head\n",
    "    fast = dll.head\n",
    "    while fast.next and fast.next.next:\n",
    "        slow = slow.next\n",
    "        fast = fast.next.next\n",
    "\n",
    "    # разворачиваем вторую половину списка\n",
    "    prev = None\n",
    "    current = slow.next\n",
    "    while current:\n",
    "        next_node = current.next\n",
    "        current.next = prev\n",
    "        current.prev = next_node\n",
    "        prev = current\n",
    "        current = next_node\n",
    "    slow.next = prev\n",
    "\n",
    "    # сравниваем элементы с обеих половин списка\n",
    "    left = dll.head\n",
    "    right = prev\n",
    "    while right:\n",
    "        if left.copies != right.copies:\n",
    "            return False  # если элементы не совпадают, список не является палиндромом\n",
    "        left = left.next\n",
    "        right = right.prev\n",
    "\n",
    "    return True  # если все элементы совпадают, список является палиндромом\n",
    "\n",
    "# пример использования\n",
    "result = is_doubly_linked_list_palindrome(library)\n",
    "print(f\"является ли циклический двусвязный список палиндромом: {result}\")"
   ]
  }
 ],
 "metadata": {
  "kernelspec": {
   "display_name": "Python 3 (ipykernel)",
   "language": "python",
   "name": "python3"
  },
  "language_info": {
   "codemirror_mode": {
    "name": "ipython",
    "version": 3
   },
   "file_extension": ".py",
   "mimetype": "text/x-python",
   "name": "python",
   "nbconvert_exporter": "python",
   "pygments_lexer": "ipython3",
   "version": "3.10.9"
  }
 },
 "nbformat": 4,
 "nbformat_minor": 5
}
